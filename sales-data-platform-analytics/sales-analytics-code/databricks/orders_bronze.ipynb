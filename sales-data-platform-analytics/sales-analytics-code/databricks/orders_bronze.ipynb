{
 "cells": [
  {
   "cell_type": "markdown",
   "metadata": {
    "application/vnd.databricks.v1+cell": {
     "cellMetadata": {
      "byteLimit": 2048000,
      "rowLimit": 10000
     },
     "inputWidgets": {},
     "nuid": "aae272ef-a92a-4534-b7be-ffa2d17555c6",
     "showTitle": false,
     "tableResultSettingsMap": {},
     "title": ""
    }
   },
   "source": [
    "Now we can introduce parametrizing to the notebook"
   ]
  },
  {
   "cell_type": "markdown",
   "metadata": {
    "application/vnd.databricks.v1+cell": {
     "cellMetadata": {
      "byteLimit": 2048000,
      "rowLimit": 10000
     },
     "inputWidgets": {},
     "nuid": "d4a9ff3f-71c8-428d-a6fd-db543086bf1a",
     "showTitle": false,
     "tableResultSettingsMap": {},
     "title": ""
    }
   },
   "source": [
    "datasets = dbutils.jobs.taskValues.get(\n",
    "    taskKey=\"Parameter_file_names\",   # task key of parameters notebook\n",
    "    key=\"output.datasets\",\n",
    "    debugValue=[]\n",
    ")\n",
    "\n",
    "queries = []   # keep references to streaming queries\n",
    "\n",
    "\n",
    "print(datasets)"
   ]
  },
  {
   "cell_type": "code",
   "execution_count": 0,
   "metadata": {
    "application/vnd.databricks.v1+cell": {
     "cellMetadata": {
      "byteLimit": 2048000,
      "rowLimit": 10000
     },
     "inputWidgets": {},
     "nuid": "12ee7915-557d-45c8-999d-2d142246cf14",
     "showTitle": false,
     "tableResultSettingsMap": {},
     "title": ""
    }
   },
   "outputs": [],
   "source": [
    "p_file_name = dbutils.widgets.get(\"file_name\")\n",
    "\n",
    "df = spark.readStream.format(\"cloudFiles\") \\\n",
    "        .option(\"cloudFiles.format\", \"parquet\") \\\n",
    "        .option(\"cloudFiles.schemaLocation\",\n",
    "                f\"abfss://bronze@salesstaradlsstorageacc.dfs.core.windows.net/{p_file_name}/checkpoint_{p_file_name}\") \\\n",
    "        .load(f\"abfss://source@salesstaradlsstorageacc.dfs.core.windows.net/{p_file_name}\") \n",
    "\n",
    "df.writeStream.format(\"parquet\") \\\n",
    "        .outputMode(\"append\") \\\n",
    "        .option(\"checkpointLocation\",\n",
    "                f\"abfss://bronze@salesstaradlsstorageacc.dfs.core.windows.net/{p_file_name}/checkpoint_{p_file_name}\") \\\n",
    "        .option(\"path\",\n",
    "                f\"abfss://bronze@salesstaradlsstorageacc.dfs.core.windows.net/{p_file_name}\") \\\n",
    "        .trigger(once=True) \\\n",
    "        .start()\n"
   ]
  }
 ],
 "metadata": {
  "application/vnd.databricks.v1+notebook": {
   "computePreferences": null,
   "dashboards": [],
   "environmentMetadata": {
    "base_environment": "",
    "environment_version": "3"
   },
   "inputWidgetPreferences": null,
   "language": "python",
   "notebookMetadata": {
    "pythonIndentUnit": 4
   },
   "notebookName": "orders_bronze",
   "widgets": {
    "file_name": {
     "currentValue": "",
     "nuid": "cc6aa376-e7ab-4959-b3e7-1e3752d1a09e",
     "typedWidgetInfo": {
      "autoCreated": false,
      "defaultValue": "",
      "label": null,
      "name": "file_name",
      "options": {
       "widgetDisplayType": "Text",
       "validationRegex": null
      },
      "parameterDataType": "String"
     },
     "widgetInfo": {
      "widgetType": "text",
      "defaultValue": "",
      "label": null,
      "name": "file_name",
      "options": {
       "widgetType": "text",
       "autoCreated": false,
       "validationRegex": null
      }
     }
    }
   }
  },
  "language_info": {
   "name": "python"
  }
 },
 "nbformat": 4,
 "nbformat_minor": 0
}
