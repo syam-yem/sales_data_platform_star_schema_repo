{
 "cells": [
  {
   "cell_type": "markdown",
   "metadata": {
    "application/vnd.databricks.v1+cell": {
     "cellMetadata": {},
     "inputWidgets": {},
     "nuid": "061f3ff1-3bcc-4e4d-a655-67cf32018541",
     "showTitle": false,
     "tableResultSettingsMap": {},
     "title": ""
    }
   },
   "source": [
    "##Fact ORDERS"
   ]
  },
  {
   "cell_type": "code",
   "execution_count": 0,
   "metadata": {
    "application/vnd.databricks.v1+cell": {
     "cellMetadata": {},
     "inputWidgets": {},
     "nuid": "aed4d94e-24b5-466f-b545-f409fc1e2819",
     "showTitle": false,
     "tableResultSettingsMap": {},
     "title": ""
    }
   },
   "outputs": [],
   "source": [
    "df = spark.sql(\"select * from databricksete.silver.orders_silver\")\n",
    "df.display()"
   ]
  },
  {
   "cell_type": "code",
   "execution_count": 0,
   "metadata": {
    "application/vnd.databricks.v1+cell": {
     "cellMetadata": {},
     "inputWidgets": {},
     "nuid": "a34ea284-d8a1-430c-a177-b5c1b8f7cab6",
     "showTitle": false,
     "tableResultSettingsMap": {},
     "title": ""
    }
   },
   "outputs": [],
   "source": [
    "df_dimcus = park.sql(\"select DimCustomerKey ,customer_id dim_customer_id from databricksete.gold.DimCustomers \")\n",
    "\n",
    "df_dimpro = spark.sql(\"select  product_id  as DimProductkey ,product_id  as dim_product_id  from databricksete.gold.DimProducts\")"
   ]
  },
  {
   "cell_type": "code",
   "execution_count": 0,
   "metadata": {
    "application/vnd.databricks.v1+cell": {
     "cellMetadata": {},
     "inputWidgets": {},
     "nuid": "ea766056-084f-4d77-928a-2feb81fecbe4",
     "showTitle": false,
     "tableResultSettingsMap": {},
     "title": ""
    }
   },
   "outputs": [],
   "source": [
    "df_fact =  df.join(df_dimcus,df['customer_id']= df_dimcus['dim_customer_id'],how = 'Left').join(df_dimpro,df['customer_id']= df_dimpro['dim_customer_id'])"
   ]
  },
  {
   "cell_type": "code",
   "execution_count": 0,
   "metadata": {
    "application/vnd.databricks.v1+cell": {
     "cellMetadata": {},
     "inputWidgets": {},
     "nuid": "8e779d83-1b87-44e9-9fc6-8e05b53d09b1",
     "showTitle": false,
     "tableResultSettingsMap": {},
     "title": ""
    }
   },
   "outputs": [],
   "source": [
    "df_fact_new  = df_fact.drop('dim_customer_id','dim_customer_id')"
   ]
  },
  {
   "cell_type": "code",
   "execution_count": 0,
   "metadata": {
    "application/vnd.databricks.v1+cell": {
     "cellMetadata": {},
     "inputWidgets": {},
     "nuid": "9857e493-e278-4fa3-8002-0f9058c8fc80",
     "showTitle": false,
     "tableResultSettingsMap": {},
     "title": ""
    }
   },
   "outputs": [],
   "source": [
    "if spark.catalog.tableExists(\"databricksete.gold.factOrder\"):\n",
    "    dlt_obj = DeltaTable.forName(spark,\"databricksete.gold.fact_orders\")\n",
    "    dlt_obj.alias(\"trg\").merge(df_fact_new.alias(\"src\"),\"trg_order_id = src.order_id AND trg.DimCustomerKey = src.DimCustomerKey AND trg.DimCustomerKey = src.DimCustomerKey AND trg.DimproductKey = src.DimproductKey\") \\\n",
    "        .whenMatchedUpdateAll() \\\n",
    "            .WhenNotMatchedInsertAll() \\\n",
    "                .execute()\n",
    "else:\n",
    "    df_fact_new.write.format(\"delta\") \\\n",
    "        .option(\"path\",\"abfss//:gold@salesstaradlsstorageacc.dfs.core.windows.net/factorders\") \\\n",
    "            .saveAsTable(\"databricks_cata.gold.factOrders\")"
   ]
  }
 ],
 "metadata": {
  "application/vnd.databricks.v1+notebook": {
   "computePreferences": null,
   "dashboards": [],
   "environmentMetadata": {
    "base_environment": "",
    "environment_version": "3"
   },
   "inputWidgetPreferences": null,
   "language": "python",
   "notebookMetadata": {
    "pythonIndentUnit": 4
   },
   "notebookName": "gold_orders",
   "widgets": {}
  },
  "language_info": {
   "name": "python"
  }
 },
 "nbformat": 4,
 "nbformat_minor": 0
}
